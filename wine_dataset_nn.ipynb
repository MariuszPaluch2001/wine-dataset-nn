{
  "nbformat": 4,
  "nbformat_minor": 0,
  "metadata": {
    "colab": {
      "provenance": []
    },
    "kernelspec": {
      "name": "python3",
      "display_name": "Python 3"
    },
    "language_info": {
      "name": "python"
    },
    "accelerator": "GPU",
    "gpuClass": "standard"
  },
  "cells": [
    {
      "cell_type": "markdown",
      "source": [
        "# Wine dataset - white wine\n",
        "\n",
        "Explored dataset is about white wine samples, from the north of Portugal. I tried to predict wine quality using pytorch's Neural Network na XGboost classifier.\n"
      ],
      "metadata": {
        "id": "AF6NMLz3lKLs"
      }
    },
    {
      "cell_type": "code",
      "execution_count": null,
      "metadata": {
        "id": "Zj5hNhnVdIZD"
      },
      "outputs": [],
      "source": [
        "# imports\n",
        "import pandas as pd\n",
        "\n",
        "from sklearn.model_selection import train_test_split\n",
        "from sklearn.preprocessing import RobustScaler\n",
        "\n",
        "import torch\n",
        "import torch.utils.data as data_torch\n",
        "import torch.nn.functional as F\n",
        "import torch.nn as nn\n",
        "\n",
        "import random\n",
        "import numpy as np\n",
        "\n",
        "import seaborn as sns\n",
        "import matplotlib.pyplot as plt"
      ]
    },
    {
      "cell_type": "code",
      "source": [
        "device = torch.device(\"cuda\") "
      ],
      "metadata": {
        "id": "SpqqmWJrdOIT"
      },
      "execution_count": null,
      "outputs": []
    },
    {
      "cell_type": "code",
      "source": [
        "df = pd.read_csv('https://archive.ics.uci.edu/ml/machine-learning-databases/wine-quality/winequality-white.csv', delimiter=\";\")"
      ],
      "metadata": {
        "id": "GyXscFlVdLCt"
      },
      "execution_count": null,
      "outputs": []
    },
    {
      "cell_type": "markdown",
      "source": [
        "# Wine dataset - basic stats\n",
        "Basic knowloadge about this data set. It's showing facts about data's distribution, correlations etc.\n"
      ],
      "metadata": {
        "id": "8vtRGqrtlXsM"
      }
    },
    {
      "cell_type": "code",
      "source": [
        "df.head()"
      ],
      "metadata": {
        "id": "2iWBfLGSDA2H"
      },
      "execution_count": null,
      "outputs": []
    },
    {
      "cell_type": "code",
      "source": [
        "df.describe()"
      ],
      "metadata": {
        "id": "vpNveIfWDK3y"
      },
      "execution_count": null,
      "outputs": []
    },
    {
      "cell_type": "code",
      "source": [
        "df.shape"
      ],
      "metadata": {
        "id": "_pznpzrRC27d"
      },
      "execution_count": null,
      "outputs": []
    },
    {
      "cell_type": "code",
      "source": [
        "df.isnull().any().any()"
      ],
      "metadata": {
        "id": "jXkK9lscDq40"
      },
      "execution_count": null,
      "outputs": []
    },
    {
      "cell_type": "code",
      "source": [
        "df['quality'].value_counts()"
      ],
      "metadata": {
        "id": "p_lt3n4Aj0_b"
      },
      "execution_count": null,
      "outputs": []
    },
    {
      "cell_type": "code",
      "source": [
        "sns.catplot(x='quality', data=df, kind='count')"
      ],
      "metadata": {
        "id": "U7Q0NNs9D5-8"
      },
      "execution_count": null,
      "outputs": []
    },
    {
      "cell_type": "code",
      "source": [
        "plt.figure(figsize= (10,10))\n",
        "sns.heatmap(df.corr(), color=\"k\", annot=True)"
      ],
      "metadata": {
        "id": "vn2cQFEUEHMp"
      },
      "execution_count": null,
      "outputs": []
    },
    {
      "cell_type": "code",
      "source": [
        "plt.figure(figsize=(10,15))\n",
        "for i, col in enumerate(list(df.columns.values)):\n",
        "    plt.subplot(4,3,i+1)\n",
        "    df.boxplot(col)\n",
        "    plt.grid()\n",
        "    plt.tight_layout()"
      ],
      "metadata": {
        "id": "anqFTY9gG4DK"
      },
      "execution_count": null,
      "outputs": []
    },
    {
      "cell_type": "code",
      "source": [
        "plt.figure(figsize=(20,16))\n",
        "for i, col in enumerate(list(df.columns.values)):\n",
        "    plt.subplot(4,3,i+1)\n",
        "    sns.histplot(df[col], color='r', kde=True, stat=\"density\", linewidth=0, label='data')\n",
        "    plt.grid()\n",
        "    plt.legend(loc='upper right')\n",
        "    plt.tight_layout()"
      ],
      "metadata": {
        "id": "W-rS3Zu4Hzlx"
      },
      "execution_count": null,
      "outputs": []
    },
    {
      "cell_type": "code",
      "source": [
        "sns.pairplot(data=df, kind='scatter', diag_kind='kde')"
      ],
      "metadata": {
        "id": "hzhF6_IRK3J_"
      },
      "execution_count": null,
      "outputs": []
    },
    {
      "cell_type": "markdown",
      "source": [
        "#Neural Network classificators\n",
        "\n",
        "I made two neural network. First is a simple model without any additional layers. Second one is more sophisticated. This one use dropout, normalization, and Xavier weights initialization."
      ],
      "metadata": {
        "id": "8CzYSp6ql4AS"
      }
    },
    {
      "cell_type": "code",
      "source": [
        "LR = 0.001\n",
        "EPOCHS = 2000\n",
        "DROPOUT = 0.3\n",
        "BATCH_SIZE = 128"
      ],
      "metadata": {
        "id": "o7lNXB96OIo_"
      },
      "execution_count": null,
      "outputs": []
    },
    {
      "cell_type": "code",
      "source": [
        "class MySimpleClassifier(nn.Module):\n",
        "    \n",
        "    def __init__(self, num_inputs, num_hidden, num_outputs):\n",
        "        super().__init__()\n",
        "        self.linear1 = nn.Linear(num_inputs, num_hidden)\n",
        "        self.linear2 = nn.Linear(num_hidden, num_hidden)\n",
        "        self.linear3 = nn.Linear(num_hidden, num_outputs)\n",
        "\n",
        "    def forward(self, x):\n",
        "        x = torch.sigmoid(self.linear1(x))\n",
        "        x = torch.sigmoid(self.linear2(x))\n",
        "        x = self.linear3(x)\n",
        "        return x"
      ],
      "metadata": {
        "id": "-C-dgnYgdTqc"
      },
      "execution_count": null,
      "outputs": []
    },
    {
      "cell_type": "code",
      "source": [
        "model = MySimpleClassifier(11, 25, 11)\n",
        "model = model.float()\n",
        "model.to(device)"
      ],
      "metadata": {
        "id": "UA2sSeD2hKFq"
      },
      "execution_count": null,
      "outputs": []
    },
    {
      "cell_type": "code",
      "source": [
        "class MyAdvancedClassifier(nn.Module):\n",
        "\n",
        "    def __init__(self, num_inputs, num_hidden, num_outputs):\n",
        "        super().__init__()\n",
        "        self.linear1 = nn.Linear(num_inputs, num_hidden)\n",
        "        self.bn1 = nn.BatchNorm1d(num_hidden)\n",
        "        self.rel1 = nn.ReLU()\n",
        "        self.dropout1 = nn.Dropout(DROPOUT)\n",
        "        self.linear2 = nn.Linear(num_hidden, num_hidden // 2)\n",
        "        self.bn2 = nn.BatchNorm1d(num_hidden // 2)\n",
        "        self.rel2 = nn.ReLU()\n",
        "        self.dropout2 = nn.Dropout(DROPOUT)\n",
        "        self.linear3 = nn.Linear(num_hidden // 2, num_outputs)\n",
        "\n",
        "        for m in self.modules():\n",
        "            if isinstance(m, nn.Linear):\n",
        "                nn.init.xavier_normal_(m.weight.data)\n",
        "                \n",
        "    def forward(self, x):\n",
        "        x = self.linear1(x)\n",
        "        x = self.bn1(x)\n",
        "        x = self.rel1(x)\n",
        "        x = self.dropout1(x)\n",
        "        x = self.linear2(x)\n",
        "        x = self.bn2(x)\n",
        "        x = self.rel2(x)\n",
        "        x = self.dropout2(x)\n",
        "        x = self.linear3(x)\n",
        "        return x"
      ],
      "metadata": {
        "id": "Pfyxz-qbkAxT"
      },
      "execution_count": null,
      "outputs": []
    },
    {
      "cell_type": "code",
      "source": [
        "model = MyAdvancedClassifier(11, 32, 11)\n",
        "model = model.float()\n",
        "model.to(device)"
      ],
      "metadata": {
        "id": "H6T2v00CkbKa"
      },
      "execution_count": null,
      "outputs": []
    },
    {
      "cell_type": "code",
      "source": [
        "X, y = df.values[:,:-1], df.values[:,-1]\n",
        "X_train, X_val, y_train, y_val = train_test_split(X, y, test_size=0.2, random_state=123)\n",
        "\n",
        "scaler = RobustScaler()\n",
        "\n",
        "X_train = scaler.fit_transform(X_train)\n",
        "X_val = scaler.transform(X_val)\n",
        "\n",
        "X_train_ts = torch.FloatTensor(X_train)\n",
        "X_val_ts = torch.FloatTensor(X_val)\n",
        "\n",
        "y_train_ts = torch.LongTensor(y_train)\n",
        "y_val_ts = torch.LongTensor(y_val)\n",
        "\n",
        "\n",
        "train_data = data_torch.TensorDataset(X_train_ts, y_train_ts)\n",
        "test_data = data_torch.TensorDataset(X_val_ts, y_val_ts)\n",
        "\n",
        "train_loader = data_torch.DataLoader(train_data, batch_size=BATCH_SIZE, shuffle=True)\n",
        "test_loader = data_torch.DataLoader(test_data, batch_size=BATCH_SIZE, shuffle=False)\n",
        "\n"
      ],
      "metadata": {
        "id": "PTAH7tyndNtZ"
      },
      "execution_count": null,
      "outputs": []
    },
    {
      "cell_type": "code",
      "source": [
        "optimizer = torch.optim.Adam(params=model.parameters(), lr=LR)\n",
        "loss_module = nn.CrossEntropyLoss()"
      ],
      "metadata": {
        "id": "jdg2lReFjJsT"
      },
      "execution_count": null,
      "outputs": []
    },
    {
      "cell_type": "code",
      "source": [
        "# learning loop\n",
        "model.train()\n",
        "for epoch in range(EPOCHS):\n",
        "  for x, y in train_loader:\n",
        "      x = x.to(device)\n",
        "      y = y.to(device)\n",
        "      outputs = model(x)\n",
        "      loss = loss_module(outputs, y)\n",
        "      optimizer.zero_grad()\n",
        "      loss.backward()\n",
        "      optimizer.step()\n",
        "  if epoch % 10 == 0:\n",
        "    print(f\"Epoch: {epoch}, loss={loss.item():.3}\")"
      ],
      "metadata": {
        "id": "rTdQ6UNNdZJA"
      },
      "execution_count": null,
      "outputs": []
    },
    {
      "cell_type": "markdown",
      "source": [
        "#NN evaluation\n",
        "\n",
        "Result for basic model is 40-50%, and for more advanced 55-60%.\n"
      ],
      "metadata": {
        "id": "0nWZqMK4mVHH"
      }
    },
    {
      "cell_type": "code",
      "source": [
        "model.eval()\n",
        "true_preds, num_preds = 0., 0.\n",
        "with torch.no_grad():\n",
        "    for data, label in test_loader:\n",
        "        data = data.to(device)\n",
        "        label = label.to(device)\n",
        "        preds = model(data.float())\n",
        "        preds = torch.argmax(preds, axis=1)\n",
        "        true_preds += (preds == label).sum()\n",
        "        num_preds += len(preds)\n",
        "\n",
        "print(f\"Accuracy: {true_preds / num_preds}\")"
      ],
      "metadata": {
        "id": "jCvpXfPQdaMm"
      },
      "execution_count": null,
      "outputs": []
    },
    {
      "cell_type": "markdown",
      "source": [
        "# XGboost\n",
        "\n",
        "As a reference I used XGBoost library. XGB have 60-65% accuracy."
      ],
      "metadata": {
        "id": "o6xfioJ2k0do"
      }
    },
    {
      "cell_type": "code",
      "source": [
        "import xgboost as xgb\n",
        "from sklearn.model_selection import train_test_split"
      ],
      "metadata": {
        "id": "M3rGsMtDR35v"
      },
      "execution_count": null,
      "outputs": []
    },
    {
      "cell_type": "code",
      "source": [
        "X, y = df.values[:,:-1], df.values[:,-1]"
      ],
      "metadata": {
        "id": "2Io0MkYCSHKG"
      },
      "execution_count": null,
      "outputs": []
    },
    {
      "cell_type": "code",
      "source": [
        "X_train, X_test, y_train, y_test = train_test_split(X, y, test_size=0.2, random_state=123)"
      ],
      "metadata": {
        "id": "JsICsaQRStlR"
      },
      "execution_count": null,
      "outputs": []
    },
    {
      "cell_type": "code",
      "source": [
        "xgbc = xgb.XGBClassifier()"
      ],
      "metadata": {
        "id": "fSQrexsJTFmf"
      },
      "execution_count": null,
      "outputs": []
    },
    {
      "cell_type": "code",
      "source": [
        "xgbc.fit(X_train,y_train)"
      ],
      "metadata": {
        "id": "h8xjX452TN7H"
      },
      "execution_count": null,
      "outputs": []
    },
    {
      "cell_type": "code",
      "source": [
        "preds = xgbc.predict(X_test)"
      ],
      "metadata": {
        "id": "ne_kjnH9M0ng"
      },
      "execution_count": null,
      "outputs": []
    },
    {
      "cell_type": "code",
      "source": [
        "print(f\"Accuracy: {np.count_nonzero((preds - y_test) == 0) / len(y_test)}\")"
      ],
      "metadata": {
        "id": "a2W0LELNTTzx"
      },
      "execution_count": null,
      "outputs": []
    }
  ]
}